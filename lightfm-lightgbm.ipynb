{
 "cells": [
  {
   "cell_type": "code",
   "execution_count": 17,
   "metadata": {
    "_cell_guid": "b1076dfc-b9ad-4769-8c92-a6c4dae69d19",
    "_uuid": "8f2839f25d086af736a60e9eeb907d3b93b6e0e5"
   },
   "outputs": [],
   "source": [
    "import numpy as np # linear algebra\n",
    "import pandas as pd # data processing, CSV file I/O (e.g. pd.read_csv)\n",
    "\n",
    "\n",
    "import numpy as np # linear algebra\n",
    "import pandas as pd # data processing, CSV file I/O (e.g. pd.read_csv)\n",
    "\n",
    "import scipy.sparse as sparse\n",
    "\n",
    "from lightfm import LightFM\n",
    "import lightgbm as lgb\n",
    "from lightfm.cross_validation import random_train_test_split\n",
    "from lightfm.evaluation import auc_score, precision_at_k, recall_at_k\n",
    "import sklearn\n",
    "from sklearn.model_selection import train_test_split\n",
    "\n",
    "import scipy.sparse as sparse\n",
    "\n",
    "import os\n",
    "for dirname, _, filenames in os.walk('/kaggle/input'):\n",
    "    for filename in filenames:\n",
    "        print(os.path.join(dirname, filename))"
   ]
  },
  {
   "cell_type": "code",
   "execution_count": 18,
   "metadata": {
    "_cell_guid": "79c7e3d0-c299-4dcb-8224-4455121ee9b0",
    "_uuid": "d629ff2d2480ee46fbb7e2d37f6b5fab8052498a"
   },
   "outputs": [],
   "source": [
    "train = pd.read_csv('data/train.csv.zip', low_memory=False)\n",
    "test = pd.read_csv('data/test.csv.zip', low_memory=False)\n",
    "sample_submission = pd.read_csv('data/sample_submission.csv.zip', low_memory=False)"
   ]
  },
  {
   "cell_type": "code",
   "execution_count": 19,
   "metadata": {},
   "outputs": [],
   "source": [
    "train_data, test_data = train_test_split(train,random_state=32, shuffle=True)\n"
   ]
  },
  {
   "cell_type": "code",
   "execution_count": 20,
   "metadata": {},
   "outputs": [],
   "source": [
    "ratings_coo = sparse.coo_matrix((train_data['rating'].astype(int),\n",
    "                                 (train_data['userid'],\n",
    "                                  train_data['itemid'])))"
   ]
  },
  {
   "cell_type": "code",
   "execution_count": 21,
   "metadata": {},
   "outputs": [
    {
     "data": {
      "text/plain": [
       "0.7469984813758245"
      ]
     },
     "execution_count": 21,
     "metadata": {},
     "output_type": "execute_result"
    }
   ],
   "source": [
    "model = LightFM(learning_rate=0.07, \n",
    "                loss='logistic',\n",
    "                no_components=40, \n",
    "                learning_schedule='adagrad',\n",
    "               random_state = 13)\n",
    "model = model.fit(ratings_coo, epochs=23, \n",
    "                  num_threads=8)\n",
    "\n",
    "preds = model.predict(test_data.userid.values,\n",
    "                      test_data.itemid.values)\n",
    "sklearn.metrics.roc_auc_score(test_data.rating, preds)"
   ]
  },
  {
   "cell_type": "code",
   "execution_count": 22,
   "metadata": {},
   "outputs": [],
   "source": [
    "preds = model.predict(test.userid.values,\n",
    "                      test.itemid.values)"
   ]
  },
  {
   "cell_type": "code",
   "execution_count": 23,
   "metadata": {},
   "outputs": [
    {
     "data": {
      "text/plain": [
       "(-20.87497329711914, 26.767932891845703)"
      ]
     },
     "execution_count": 23,
     "metadata": {},
     "output_type": "execute_result"
    }
   ],
   "source": [
    "preds.min(), preds.max()"
   ]
  },
  {
   "cell_type": "code",
   "execution_count": 24,
   "metadata": {},
   "outputs": [],
   "source": [
    "normalized_preds = (preds - preds.min())/(preds - preds.min()).max()"
   ]
  },
  {
   "cell_type": "code",
   "execution_count": 25,
   "metadata": {},
   "outputs": [
    {
     "data": {
      "text/plain": [
       "(0.0, 1.0)"
      ]
     },
     "execution_count": 25,
     "metadata": {},
     "output_type": "execute_result"
    }
   ],
   "source": [
    "normalized_preds.min(), normalized_preds.max()\n"
   ]
  },
  {
   "cell_type": "code",
   "execution_count": 26,
   "metadata": {},
   "outputs": [
    {
     "data": {
      "text/html": [
       "<div>\n",
       "<style scoped>\n",
       "    .dataframe tbody tr th:only-of-type {\n",
       "        vertical-align: middle;\n",
       "    }\n",
       "\n",
       "    .dataframe tbody tr th {\n",
       "        vertical-align: top;\n",
       "    }\n",
       "\n",
       "    .dataframe thead th {\n",
       "        text-align: right;\n",
       "    }\n",
       "</style>\n",
       "<table border=\"1\" class=\"dataframe\">\n",
       "  <thead>\n",
       "    <tr style=\"text-align: right;\">\n",
       "      <th></th>\n",
       "      <th>Id</th>\n",
       "      <th>rating</th>\n",
       "    </tr>\n",
       "  </thead>\n",
       "  <tbody>\n",
       "    <tr>\n",
       "      <th>0</th>\n",
       "      <td>0</td>\n",
       "      <td>0.476275</td>\n",
       "    </tr>\n",
       "    <tr>\n",
       "      <th>1</th>\n",
       "      <td>1</td>\n",
       "      <td>0.468919</td>\n",
       "    </tr>\n",
       "    <tr>\n",
       "      <th>2</th>\n",
       "      <td>2</td>\n",
       "      <td>0.448274</td>\n",
       "    </tr>\n",
       "  </tbody>\n",
       "</table>\n",
       "</div>"
      ],
      "text/plain": [
       "   Id    rating\n",
       "0   0  0.476275\n",
       "1   1  0.468919\n",
       "2   2  0.448274"
      ]
     },
     "execution_count": 26,
     "metadata": {},
     "output_type": "execute_result"
    }
   ],
   "source": [
    "sample_submission['rating'] = normalized_preds\n",
    "sample_submission.to_csv('submission_4.csv', index=False)\n",
    "sample_submission.head(3)"
   ]
  },
  {
   "cell_type": "code",
   "execution_count": 27,
   "metadata": {},
   "outputs": [],
   "source": [
    "train_data_GB = pd.DataFrame({\n",
    "    'userid': train['userid'],\n",
    "    'itemid': train['itemid'],\n",
    "    'rating': train['rating']\n",
    "})\n",
    "\n",
    "test_data_GB = pd.DataFrame({\n",
    "    'userid': test['userid'],\n",
    "    'itemid': test['itemid'],\n",
    "})"
   ]
  },
  {
   "cell_type": "code",
   "execution_count": 28,
   "metadata": {},
   "outputs": [],
   "source": [
    "train_data_GB_train, test_data_GB_test = train_test_split(train_data_GB,random_state=13, shuffle=True)"
   ]
  },
  {
   "cell_type": "code",
   "execution_count": 29,
   "metadata": {},
   "outputs": [],
   "source": [
    "y_train = train_data_GB_train['rating']\n",
    "y_test = test_data_GB_test['rating']\n",
    "X_train = train_data_GB_train.drop('rating', axis=1)\n",
    "X_test = test_data_GB_test.drop('rating', axis=1)"
   ]
  },
  {
   "cell_type": "code",
   "execution_count": 30,
   "metadata": {},
   "outputs": [
    {
     "name": "stdout",
     "output_type": "stream",
     "text": [
      "Starting training...\n",
      "[1]\tvalid_0's l2: 0.127653\tvalid_0's l1: 0.256156\n",
      "Training until validation scores don't improve for 10 rounds\n",
      "[2]\tvalid_0's l2: 0.127582\tvalid_0's l1: 0.256108\n",
      "[3]\tvalid_0's l2: 0.127545\tvalid_0's l1: 0.256056\n",
      "[4]\tvalid_0's l2: 0.12752\tvalid_0's l1: 0.256012\n",
      "[5]\tvalid_0's l2: 0.127492\tvalid_0's l1: 0.255964\n",
      "[6]\tvalid_0's l2: 0.127469\tvalid_0's l1: 0.255816\n",
      "[7]\tvalid_0's l2: 0.127457\tvalid_0's l1: 0.255719\n",
      "[8]\tvalid_0's l2: 0.127454\tvalid_0's l1: 0.255661\n",
      "[9]\tvalid_0's l2: 0.127416\tvalid_0's l1: 0.25559\n",
      "[10]\tvalid_0's l2: 0.127406\tvalid_0's l1: 0.255551\n",
      "[11]\tvalid_0's l2: 0.127389\tvalid_0's l1: 0.255669\n",
      "[12]\tvalid_0's l2: 0.127367\tvalid_0's l1: 0.255722\n",
      "[13]\tvalid_0's l2: 0.12736\tvalid_0's l1: 0.255746\n",
      "[14]\tvalid_0's l2: 0.127362\tvalid_0's l1: 0.255769\n",
      "[15]\tvalid_0's l2: 0.127358\tvalid_0's l1: 0.255777\n",
      "[16]\tvalid_0's l2: 0.127341\tvalid_0's l1: 0.255679\n",
      "[17]\tvalid_0's l2: 0.127326\tvalid_0's l1: 0.255616\n",
      "[18]\tvalid_0's l2: 0.127322\tvalid_0's l1: 0.255573\n",
      "[19]\tvalid_0's l2: 0.127315\tvalid_0's l1: 0.255546\n",
      "[20]\tvalid_0's l2: 0.127305\tvalid_0's l1: 0.255527\n",
      "Did not meet early stopping. Best iteration is:\n",
      "[20]\tvalid_0's l2: 0.127305\tvalid_0's l1: 0.255527\n",
      "Starting predicting...\n",
      "The rmse of prediction is: 0.5446786451525324\n"
     ]
    }
   ],
   "source": [
    "# create dataset for lightgbm\n",
    "lgb_train = lgb.Dataset(X_train, y_train)\n",
    "lgb_eval = lgb.Dataset(X_test, y_test, reference=lgb_train)\n",
    "\n",
    "# specify your configurations as a dict\n",
    "params = {\n",
    "    'boosting_type': 'gbdt',\n",
    "    'objective': 'binary',\n",
    "    'metric': {'l2', 'l1'},\n",
    "    'num_leaves': 8,\n",
    "    'learning_rate': 0.4,\n",
    "    'feature_fraction': 0.1,\n",
    "    'bagging_fraction': 0.8,\n",
    "    'bagging_freq': 5,\n",
    "    'verbose': 0\n",
    "}\n",
    "\n",
    "print('Starting training...')\n",
    "# train\n",
    "gbm = lgb.train(params,\n",
    "                lgb_train,\n",
    "                num_boost_round=20,\n",
    "                valid_sets=lgb_eval,\n",
    "                early_stopping_rounds=10)\n",
    "print('Starting predicting...')\n",
    "# predict\n",
    "y_pred = gbm.predict(X_test, num_iteration=gbm.best_iteration)\n",
    "# eval\n",
    "print('The rmse of prediction is:', sklearn.metrics.roc_auc_score(y_test, y_pred))\n",
    "\n",
    "y____ =  gbm.predict(test_data_GB, num_iteration=gbm.best_iteration)"
   ]
  },
  {
   "cell_type": "code",
   "execution_count": 31,
   "metadata": {},
   "outputs": [],
   "source": [
    "c = (normalized_preds  + y____) / 2"
   ]
  },
  {
   "cell_type": "code",
   "execution_count": null,
   "metadata": {},
   "outputs": [],
   "source": []
  },
  {
   "cell_type": "code",
   "execution_count": null,
   "metadata": {},
   "outputs": [],
   "source": []
  },
  {
   "cell_type": "code",
   "execution_count": null,
   "metadata": {},
   "outputs": [],
   "source": []
  }
 ],
 "metadata": {
  "kernelspec": {
   "display_name": "Python 3",
   "language": "python",
   "name": "python3"
  },
  "language_info": {
   "codemirror_mode": {
    "name": "ipython",
    "version": 3
   },
   "file_extension": ".py",
   "mimetype": "text/x-python",
   "name": "python",
   "nbconvert_exporter": "python",
   "pygments_lexer": "ipython3",
   "version": "3.8.5"
  }
 },
 "nbformat": 4,
 "nbformat_minor": 4
}
