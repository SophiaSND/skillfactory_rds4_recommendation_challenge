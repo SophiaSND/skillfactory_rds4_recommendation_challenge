{
 "cells": [
  {
   "cell_type": "code",
   "execution_count": 57,
   "metadata": {
    "_cell_guid": "b1076dfc-b9ad-4769-8c92-a6c4dae69d19",
    "_uuid": "8f2839f25d086af736a60e9eeb907d3b93b6e0e5"
   },
   "outputs": [],
   "source": [
    "# This Python 3 environment comes with many helpful analytics libraries installed\n",
    "# It is defined by the kaggle/python Docker image: https://github.com/kaggle/docker-python\n",
    "# For example, here's several helpful packages to load\n",
    "\n",
    "import numpy as np # linear algebra\n",
    "import pandas as pd # data processing, CSV file I/O (e.g. pd.read_csv)\n",
    "\n",
    "# Input data files are available in the read-only \"../input/\" directory\n",
    "# For example, running this (by clicking run or pressing Shift+Enter) will list all files under the input directory\n",
    "# This Python 3 environment comes with many helpful analytics libraries installed\n",
    "# It is defined by the kaggle/python docker image: https://github.com/kaggle/docker-python\n",
    "# For example, here's several helpful packages to load in \n",
    "\n",
    "import numpy as np # linear algebra\n",
    "import pandas as pd # data processing, CSV file I/O (e.g. pd.read_csv)\n",
    "\n",
    "# Input data files are available in the \"../input/\" directory.\n",
    "# For example, running this (by clicking run or pressing Shift+Enter) will list all files under the input directory\n",
    "\n",
    "# Any results you write to the current directory are saved as output.\n",
    "# import os\n",
    "# for dirname, _, filenames in os.walk('/kaggle/input'):\n",
    "#     for filename in filenames:\n",
    "#         print(os.path.join(dirname, filename))\n",
    "\n",
    "# You can write up to 5GB to the current directory (/kaggle/working/) that gets preserved as output when you create a version using \"Save & Run All\" \n",
    "# You can also write temporary files to /kaggle/temp/, but they won't be saved outside of the current session"
   ]
  },
  {
   "cell_type": "code",
   "execution_count": 58,
   "metadata": {
    "_cell_guid": "79c7e3d0-c299-4dcb-8224-4455121ee9b0",
    "_uuid": "d629ff2d2480ee46fbb7e2d37f6b5fab8052498a"
   },
   "outputs": [],
   "source": [
    "train = pd.read_csv('data/train.csv.zip', low_memory=False)\n",
    "test = pd.read_csv('data/test.csv.zip', low_memory=False)\n",
    "submission = pd.read_csv('data/sample_submission.csv.zip', low_memory=False)"
   ]
  },
  {
   "cell_type": "code",
   "execution_count": 59,
   "metadata": {},
   "outputs": [
    {
     "data": {
      "text/html": [
       "<div>\n",
       "<style scoped>\n",
       "    .dataframe tbody tr th:only-of-type {\n",
       "        vertical-align: middle;\n",
       "    }\n",
       "\n",
       "    .dataframe tbody tr th {\n",
       "        vertical-align: top;\n",
       "    }\n",
       "\n",
       "    .dataframe thead tr th {\n",
       "        text-align: left;\n",
       "    }\n",
       "</style>\n",
       "<table border=\"1\" class=\"dataframe\">\n",
       "  <thead>\n",
       "    <tr>\n",
       "      <th></th>\n",
       "      <th colspan=\"4\" halign=\"left\">↓ ОБУЧАЮЩАЯ ВЫБОРКА ↓ (857895, 14)</th>\n",
       "      <th colspan=\"4\" halign=\"left\">↓ ТЕСТОВАЯ ВЫБОРКА ↓ (285965, 11)</th>\n",
       "    </tr>\n",
       "    <tr>\n",
       "      <th></th>\n",
       "      <th>dtypes</th>\n",
       "      <th>nunique</th>\n",
       "      <th>isna</th>\n",
       "      <th>loc[0]</th>\n",
       "      <th>dtypes</th>\n",
       "      <th>nunique</th>\n",
       "      <th>isna</th>\n",
       "      <th>loc[0]</th>\n",
       "    </tr>\n",
       "  </thead>\n",
       "  <tbody>\n",
       "    <tr>\n",
       "      <th>overall</th>\n",
       "      <td>float64</td>\n",
       "      <td>5.0</td>\n",
       "      <td>0.0</td>\n",
       "      <td>5</td>\n",
       "      <td>NaN</td>\n",
       "      <td>NaN</td>\n",
       "      <td>NaN</td>\n",
       "      <td>NaN</td>\n",
       "    </tr>\n",
       "    <tr>\n",
       "      <th>verified</th>\n",
       "      <td>bool</td>\n",
       "      <td>2.0</td>\n",
       "      <td>0.0</td>\n",
       "      <td>True</td>\n",
       "      <td>bool</td>\n",
       "      <td>2.0</td>\n",
       "      <td>0.0</td>\n",
       "      <td>True</td>\n",
       "    </tr>\n",
       "    <tr>\n",
       "      <th>reviewTime</th>\n",
       "      <td>object</td>\n",
       "      <td>4580.0</td>\n",
       "      <td>0.0</td>\n",
       "      <td>10 4, 2016</td>\n",
       "      <td>object</td>\n",
       "      <td>4349.0</td>\n",
       "      <td>0.0</td>\n",
       "      <td>10 1, 2016</td>\n",
       "    </tr>\n",
       "    <tr>\n",
       "      <th>asin</th>\n",
       "      <td>object</td>\n",
       "      <td>41302.0</td>\n",
       "      <td>0.0</td>\n",
       "      <td>B01CPNIEQG</td>\n",
       "      <td>object</td>\n",
       "      <td>37876.0</td>\n",
       "      <td>0.0</td>\n",
       "      <td>B001E5E3X0</td>\n",
       "    </tr>\n",
       "    <tr>\n",
       "      <th>reviewerName</th>\n",
       "      <td>object</td>\n",
       "      <td>101207.0</td>\n",
       "      <td>176.0</td>\n",
       "      <td>Heather</td>\n",
       "      <td>object</td>\n",
       "      <td>86815.0</td>\n",
       "      <td>47.0</td>\n",
       "      <td>Rudys Mom</td>\n",
       "    </tr>\n",
       "    <tr>\n",
       "      <th>reviewText</th>\n",
       "      <td>object</td>\n",
       "      <td>686739.0</td>\n",
       "      <td>279.0</td>\n",
       "      <td>These are my FAVORITE spices in my collection....</td>\n",
       "      <td>NaN</td>\n",
       "      <td>NaN</td>\n",
       "      <td>NaN</td>\n",
       "      <td>NaN</td>\n",
       "    </tr>\n",
       "    <tr>\n",
       "      <th>summary</th>\n",
       "      <td>object</td>\n",
       "      <td>411451.0</td>\n",
       "      <td>170.0</td>\n",
       "      <td>Must Add to your Spice kitchen!</td>\n",
       "      <td>NaN</td>\n",
       "      <td>NaN</td>\n",
       "      <td>NaN</td>\n",
       "      <td>NaN</td>\n",
       "    </tr>\n",
       "    <tr>\n",
       "      <th>unixReviewTime</th>\n",
       "      <td>int64</td>\n",
       "      <td>4580.0</td>\n",
       "      <td>0.0</td>\n",
       "      <td>1475539200</td>\n",
       "      <td>int64</td>\n",
       "      <td>4349.0</td>\n",
       "      <td>0.0</td>\n",
       "      <td>1475280000</td>\n",
       "    </tr>\n",
       "    <tr>\n",
       "      <th>vote</th>\n",
       "      <td>object</td>\n",
       "      <td>311.0</td>\n",
       "      <td>739155.0</td>\n",
       "      <td>NaN</td>\n",
       "      <td>object</td>\n",
       "      <td>198.0</td>\n",
       "      <td>246503.0</td>\n",
       "      <td>NaN</td>\n",
       "    </tr>\n",
       "    <tr>\n",
       "      <th>style</th>\n",
       "      <td>object</td>\n",
       "      <td>25892.0</td>\n",
       "      <td>413489.0</td>\n",
       "      <td>NaN</td>\n",
       "      <td>object</td>\n",
       "      <td>18904.0</td>\n",
       "      <td>138285.0</td>\n",
       "      <td>NaN</td>\n",
       "    </tr>\n",
       "    <tr>\n",
       "      <th>image</th>\n",
       "      <td>object</td>\n",
       "      <td>6636.0</td>\n",
       "      <td>850753.0</td>\n",
       "      <td>NaN</td>\n",
       "      <td>object</td>\n",
       "      <td>2306.0</td>\n",
       "      <td>283597.0</td>\n",
       "      <td>NaN</td>\n",
       "    </tr>\n",
       "    <tr>\n",
       "      <th>userid</th>\n",
       "      <td>int64</td>\n",
       "      <td>127448.0</td>\n",
       "      <td>0.0</td>\n",
       "      <td>102179</td>\n",
       "      <td>int64</td>\n",
       "      <td>109357.0</td>\n",
       "      <td>0.0</td>\n",
       "      <td>68877</td>\n",
       "    </tr>\n",
       "    <tr>\n",
       "      <th>itemid</th>\n",
       "      <td>int64</td>\n",
       "      <td>41302.0</td>\n",
       "      <td>0.0</td>\n",
       "      <td>37138</td>\n",
       "      <td>int64</td>\n",
       "      <td>37876.0</td>\n",
       "      <td>0.0</td>\n",
       "      <td>7506</td>\n",
       "    </tr>\n",
       "    <tr>\n",
       "      <th>rating</th>\n",
       "      <td>float64</td>\n",
       "      <td>2.0</td>\n",
       "      <td>0.0</td>\n",
       "      <td>1</td>\n",
       "      <td>NaN</td>\n",
       "      <td>NaN</td>\n",
       "      <td>NaN</td>\n",
       "      <td>NaN</td>\n",
       "    </tr>\n",
       "    <tr>\n",
       "      <th>Id</th>\n",
       "      <td>NaN</td>\n",
       "      <td>NaN</td>\n",
       "      <td>NaN</td>\n",
       "      <td>NaN</td>\n",
       "      <td>int64</td>\n",
       "      <td>285965.0</td>\n",
       "      <td>0.0</td>\n",
       "      <td>0</td>\n",
       "    </tr>\n",
       "  </tbody>\n",
       "</table>\n",
       "</div>"
      ],
      "text/plain": [
       "               ↓ ОБУЧАЮЩАЯ ВЫБОРКА ↓ (857895, 14)                      \\\n",
       "                                           dtypes   nunique      isna   \n",
       "overall                                   float64       5.0       0.0   \n",
       "verified                                     bool       2.0       0.0   \n",
       "reviewTime                                 object    4580.0       0.0   \n",
       "asin                                       object   41302.0       0.0   \n",
       "reviewerName                               object  101207.0     176.0   \n",
       "reviewText                                 object  686739.0     279.0   \n",
       "summary                                    object  411451.0     170.0   \n",
       "unixReviewTime                              int64    4580.0       0.0   \n",
       "vote                                       object     311.0  739155.0   \n",
       "style                                      object   25892.0  413489.0   \n",
       "image                                      object    6636.0  850753.0   \n",
       "userid                                      int64  127448.0       0.0   \n",
       "itemid                                      int64   41302.0       0.0   \n",
       "rating                                    float64       2.0       0.0   \n",
       "Id                                            NaN       NaN       NaN   \n",
       "\n",
       "                                                                   \\\n",
       "                                                           loc[0]   \n",
       "overall                                                         5   \n",
       "verified                                                     True   \n",
       "reviewTime                                             10 4, 2016   \n",
       "asin                                                   B01CPNIEQG   \n",
       "reviewerName                                              Heather   \n",
       "reviewText      These are my FAVORITE spices in my collection....   \n",
       "summary                           Must Add to your Spice kitchen!   \n",
       "unixReviewTime                                         1475539200   \n",
       "vote                                                          NaN   \n",
       "style                                                         NaN   \n",
       "image                                                         NaN   \n",
       "userid                                                     102179   \n",
       "itemid                                                      37138   \n",
       "rating                                                          1   \n",
       "Id                                                            NaN   \n",
       "\n",
       "               ↓ ТЕСТОВАЯ ВЫБОРКА ↓ (285965, 11)                      \\\n",
       "                                          dtypes   nunique      isna   \n",
       "overall                                      NaN       NaN       NaN   \n",
       "verified                                    bool       2.0       0.0   \n",
       "reviewTime                                object    4349.0       0.0   \n",
       "asin                                      object   37876.0       0.0   \n",
       "reviewerName                              object   86815.0      47.0   \n",
       "reviewText                                   NaN       NaN       NaN   \n",
       "summary                                      NaN       NaN       NaN   \n",
       "unixReviewTime                             int64    4349.0       0.0   \n",
       "vote                                      object     198.0  246503.0   \n",
       "style                                     object   18904.0  138285.0   \n",
       "image                                     object    2306.0  283597.0   \n",
       "userid                                     int64  109357.0       0.0   \n",
       "itemid                                     int64   37876.0       0.0   \n",
       "rating                                       NaN       NaN       NaN   \n",
       "Id                                         int64  285965.0       0.0   \n",
       "\n",
       "                            \n",
       "                    loc[0]  \n",
       "overall                NaN  \n",
       "verified              True  \n",
       "reviewTime      10 1, 2016  \n",
       "asin            B001E5E3X0  \n",
       "reviewerName     Rudys Mom  \n",
       "reviewText             NaN  \n",
       "summary                NaN  \n",
       "unixReviewTime  1475280000  \n",
       "vote                   NaN  \n",
       "style                  NaN  \n",
       "image                  NaN  \n",
       "userid               68877  \n",
       "itemid                7506  \n",
       "rating                 NaN  \n",
       "Id                       0  "
      ]
     },
     "execution_count": 59,
     "metadata": {},
     "output_type": "execute_result"
    }
   ],
   "source": [
    "def param_data(data): # посмотрим на данные\n",
    "    \"\"\"dataset required parameters \"\"\"\n",
    "    param = pd.DataFrame({\n",
    "              'dtypes': data.dtypes.values,\n",
    "              'nunique': data.nunique().values,\n",
    "              'isna': data.isna().sum().values,\n",
    "              'loc[0]': data.loc[0].values,\n",
    "              }, \n",
    "             index = data.loc[0].index)\n",
    "    return param\n",
    "\n",
    "pd.concat([param_data(train), param_data(test)], \n",
    "          axis=1, \n",
    "          keys = [f'↓ ОБУЧАЮЩАЯ ВЫБОРКА ↓ {train.shape}', f'↓ ТЕСТОВАЯ ВЫБОРКА ↓ {test.shape}'],  \n",
    "          sort=False)"
   ]
  },
  {
   "cell_type": "code",
   "execution_count": 60,
   "metadata": {},
   "outputs": [],
   "source": [
    "def describe(df, field_name):\n",
    "    print(f\"Колонка \\\"{field_name}\\\":\")\n",
    "    print(\"------\")\n",
    "    print(\"na:\", df[field_name].isna().sum())\n",
    "    print(\"уникальных значений:\", len(df[field_name].unique()))\n",
    "    print(\"------\")\n",
    "    print(df[field_name].value_counts())  "
   ]
  },
  {
   "cell_type": "code",
   "execution_count": 61,
   "metadata": {},
   "outputs": [],
   "source": [
    "df = train.copy()"
   ]
  },
  {
   "cell_type": "markdown",
   "metadata": {},
   "source": [
    "### overall - рейтинг, который поставил пользователь"
   ]
  },
  {
   "cell_type": "code",
   "execution_count": 62,
   "metadata": {},
   "outputs": [
    {
     "name": "stdout",
     "output_type": "stream",
     "text": [
      "Колонка \"overall\":\n",
      "------\n",
      "na: 0\n",
      "уникальных значений: 5\n",
      "------\n",
      "5.0    615196\n",
      "4.0    113094\n",
      "3.0     60440\n",
      "1.0     37498\n",
      "2.0     31667\n",
      "Name: overall, dtype: int64\n"
     ]
    }
   ],
   "source": [
    "field_name = 'overall'\n",
    "describe(df, field_name)"
   ]
  },
  {
   "cell_type": "code",
   "execution_count": 63,
   "metadata": {},
   "outputs": [
    {
     "name": "stdout",
     "output_type": "stream",
     "text": [
      "Колонка \"rating_check\":\n",
      "------\n",
      "na: 0\n",
      "уникальных значений: 2\n",
      "------\n",
      "1.0    728290\n",
      "0.0    129605\n",
      "Name: rating_check, dtype: int64\n",
      "Колонка \"rating\":\n",
      "------\n",
      "na: 0\n",
      "уникальных значений: 2\n",
      "------\n",
      "1.0    728290\n",
      "0.0    129605\n",
      "Name: rating, dtype: int64\n"
     ]
    }
   ],
   "source": [
    "df['rating_check'] = train['overall'].apply(lambda x: 1.0 if x >= 4 else 0.0)\n",
    "describe(df, 'rating_check')\n",
    "describe(df, 'rating')"
   ]
  },
  {
   "cell_type": "code",
   "execution_count": 64,
   "metadata": {},
   "outputs": [],
   "source": [
    "df.drop(field_name, axis=1, inplace=True)"
   ]
  },
  {
   "cell_type": "markdown",
   "metadata": {},
   "source": [
    "### verified"
   ]
  },
  {
   "cell_type": "code",
   "execution_count": 65,
   "metadata": {
    "scrolled": false
   },
   "outputs": [
    {
     "name": "stdout",
     "output_type": "stream",
     "text": [
      "Колонка \"verified\":\n",
      "------\n",
      "na: 0\n",
      "уникальных значений: 2\n",
      "------\n",
      "True     745243\n",
      "False    112652\n",
      "Name: verified, dtype: int64\n"
     ]
    }
   ],
   "source": [
    "field_name = 'verified'\n",
    "describe(df, field_name)"
   ]
  },
  {
   "cell_type": "markdown",
   "metadata": {},
   "source": [
    "### asin"
   ]
  },
  {
   "cell_type": "code",
   "execution_count": 19,
   "metadata": {
    "scrolled": false
   },
   "outputs": [
    {
     "name": "stdout",
     "output_type": "stream",
     "text": [
      "Колонка \"asin\":\n",
      "------\n",
      "na: 0\n",
      "уникальных значений: 41144\n",
      "------\n",
      "B00BUKL666    4115\n",
      "B008QMX2SG    3534\n",
      "B00D3M2QP4    3527\n",
      "B00R7PWK7W    1897\n",
      "B000X3TPHS    1721\n",
      "              ... \n",
      "B00IHVS5PQ       1\n",
      "B019E8LVT2       1\n",
      "B000LQJT1Y       1\n",
      "B004UOA3WC       1\n",
      "B00DJLKL0Q       1\n",
      "Name: asin, Length: 41144, dtype: int64\n"
     ]
    }
   ],
   "source": [
    "field_name = 'asin'\n",
    "describe(train_data, field_name)"
   ]
  },
  {
   "cell_type": "markdown",
   "metadata": {},
   "source": [
    "### reviewerName"
   ]
  },
  {
   "cell_type": "code",
   "execution_count": 20,
   "metadata": {
    "scrolled": false
   },
   "outputs": [
    {
     "name": "stdout",
     "output_type": "stream",
     "text": [
      "Колонка \"reviewerName\":\n",
      "------\n",
      "na: 126\n",
      "уникальных значений: 100313\n",
      "------\n",
      "Amazon Customer       23693\n",
      "Kindle Customer        4664\n",
      "Linda                   562\n",
      "John                    551\n",
      "David                   472\n",
      "                      ...  \n",
      "OllieZ                    1\n",
      "Debra Paige               1\n",
      "Gust H.                   1\n",
      "LHBY                      1\n",
      "Daniel de Marksman        1\n",
      "Name: reviewerName, Length: 100312, dtype: int64\n"
     ]
    }
   ],
   "source": [
    "field_name = 'reviewerName'\n",
    "describe(train_data, field_name)"
   ]
  },
  {
   "cell_type": "markdown",
   "metadata": {},
   "source": [
    "### reviewText"
   ]
  },
  {
   "cell_type": "code",
   "execution_count": 21,
   "metadata": {
    "scrolled": false
   },
   "outputs": [
    {
     "name": "stdout",
     "output_type": "stream",
     "text": [
      "Колонка \"reviewText\":\n",
      "------\n",
      "na: 212\n",
      "уникальных значений: 528202\n",
      "------\n",
      "good                                                                                                                                                                                                                                                                                                                                                                                                                             2367\n",
      "great                                                                                                                                                                                                                                                                                                                                                                                                                            1988\n",
      "Great                                                                                                                                                                                                                                                                                                                                                                                                                            1592\n",
      "Good                                                                                                                                                                                                                                                                                                                                                                                                                             1552\n",
      "ok                                                                                                                                                                                                                                                                                                                                                                                                                               1033\n",
      "                                                                                                                                                                                                                                                                                                                                                                                                                                 ... \n",
      "Great vanilla flavor.                                                                                                                                                                                                                                                                                                                                                                                                               1\n",
      "Barf. Tastes like metal, not sour cream. As I was mixing some up, I noticed quite the metallic smell (as referenced in other reviews) so only used a tiny bit as a test, otherwise my entire meal would have been ruined.\\n\\nI guess everyone has different taste buds, but the 1 star ratings are >10%, so it's something to think about.\\n\\nI've tried other Hoosier Hill items and liked them, but this one is not for me.       1\n",
      "Great tasting and lightly glazed nuts. Not too sweet.                                                                                                                                                                                                                                                                                                                                                                               1\n",
      "I used the Rocks for making Sole  and haven't found anyone besides Spice labs that provides them.                                                                                                                                                                                                                                                                                                                                   1\n",
      "This would have received 5 stars if it weren't for the fact that the Chocolate Coconut won't work in my Keurig. It strains the pump tremendously and made the coffee maker actually turn off completely once. Don't use the Chocolate Coconut in a Keurig.                                                                                                                                                                          1\n",
      "Name: reviewText, Length: 528201, dtype: int64\n"
     ]
    }
   ],
   "source": [
    "field_name = 'reviewText'\n",
    "describe(train_data, field_name)"
   ]
  },
  {
   "cell_type": "markdown",
   "metadata": {},
   "source": [
    "### summary"
   ]
  },
  {
   "cell_type": "code",
   "execution_count": 22,
   "metadata": {
    "scrolled": false
   },
   "outputs": [
    {
     "name": "stdout",
     "output_type": "stream",
     "text": [
      "Колонка \"summary\":\n",
      "------\n",
      "na: 119\n",
      "уникальных значений: 319881\n",
      "------\n",
      "Five Stars                  130316\n",
      "Four Stars                   20188\n",
      "Three Stars                   9093\n",
      "One Star                      4021\n",
      "Two Stars                     3686\n",
      "                             ...  \n",
      "Not really vegetarian            1\n",
      "Great after school treat         1\n",
      "Refreshing and relaxing          1\n",
      "Box tampered with                1\n",
      "Hot as you like                  1\n",
      "Name: summary, Length: 319880, dtype: int64\n"
     ]
    }
   ],
   "source": [
    "field_name = 'summary'\n",
    "describe(train_data, field_name)"
   ]
  },
  {
   "cell_type": "markdown",
   "metadata": {},
   "source": [
    "### unixReviewTime"
   ]
  },
  {
   "cell_type": "code",
   "execution_count": 23,
   "metadata": {
    "scrolled": false
   },
   "outputs": [
    {
     "name": "stdout",
     "output_type": "stream",
     "text": [
      "Колонка \"unixReviewTime\":\n",
      "------\n",
      "na: 0\n",
      "уникальных значений: 4528\n",
      "------\n",
      "1456790400    706\n",
      "1468454400    692\n",
      "1455926400    616\n",
      "1453248000    607\n",
      "1433289600    606\n",
      "             ... \n",
      "1120780800      1\n",
      "1161907200      1\n",
      "1107475200      1\n",
      "1155254400      1\n",
      "1163635200      1\n",
      "Name: unixReviewTime, Length: 4528, dtype: int64\n"
     ]
    }
   ],
   "source": [
    "field_name = 'unixReviewTime'\n",
    "describe(train_data, field_name)"
   ]
  },
  {
   "cell_type": "markdown",
   "metadata": {},
   "source": [
    "### reviewTime"
   ]
  },
  {
   "cell_type": "code",
   "execution_count": 18,
   "metadata": {
    "scrolled": false
   },
   "outputs": [
    {
     "name": "stdout",
     "output_type": "stream",
     "text": [
      "Колонка \"reviewTime\":\n",
      "------\n",
      "na: 0\n",
      "уникальных значений: 4528\n",
      "------\n",
      "03 1, 2016     706\n",
      "07 14, 2016    692\n",
      "02 20, 2016    616\n",
      "01 20, 2016    607\n",
      "06 3, 2015     606\n",
      "              ... \n",
      "07 29, 2006      1\n",
      "04 23, 2007      1\n",
      "08 17, 2007      1\n",
      "10 3, 2006       1\n",
      "04 27, 2005      1\n",
      "Name: reviewTime, Length: 4528, dtype: int64\n"
     ]
    }
   ],
   "source": [
    "field_name = 'reviewTime'\n",
    "describe(train_data, field_name)"
   ]
  },
  {
   "cell_type": "markdown",
   "metadata": {},
   "source": [
    "### vote"
   ]
  },
  {
   "cell_type": "code",
   "execution_count": 24,
   "metadata": {
    "scrolled": false
   },
   "outputs": [
    {
     "name": "stdout",
     "output_type": "stream",
     "text": [
      "Колонка \"vote\":\n",
      "------\n",
      "na: 554667\n",
      "уникальных значений: 281\n",
      "------\n",
      "2      33290\n",
      "3      16714\n",
      "4       9593\n",
      "5       6221\n",
      "6       4260\n",
      "       ...  \n",
      "588        1\n",
      "659        1\n",
      "369        1\n",
      "857        1\n",
      "203        1\n",
      "Name: vote, Length: 280, dtype: int64\n"
     ]
    }
   ],
   "source": [
    "field_name = 'vote'\n",
    "describe(train_data, field_name)"
   ]
  },
  {
   "cell_type": "markdown",
   "metadata": {},
   "source": [
    "### style"
   ]
  },
  {
   "cell_type": "code",
   "execution_count": 25,
   "metadata": {
    "scrolled": false
   },
   "outputs": [
    {
     "name": "stdout",
     "output_type": "stream",
     "text": [
      "Колонка \"style\":\n",
      "------\n",
      "na: 309962\n",
      "уникальных значений: 24074\n",
      "------\n",
      "{'Size:': ' Pack of 1'}                                                    4071\n",
      "{'Package Quantity:': ' 1'}                                                3442\n",
      "{'Package Type:': ' Standard Packaging'}                                   3041\n",
      "{'Size:': ' 1 Pack'}                                                       2857\n",
      "{'Size:': ' 24 Count'}                                                     2743\n",
      "                                                                           ... \n",
      "{'Size:': ' 200 Cups'}                                                        1\n",
      "{'Size:': ' Single Serve (Pack of 6)', 'Flavor:': ' Buffalo Bleu'}            1\n",
      "{'Style:': ' 25-Count Packets'}                                               1\n",
      "{'Size:': ' 1lb', 'Flavor:': ' Blue Raspberry & Strawberry Sour Belts'}       1\n",
      "{'Size:': ' 4 Count', 'Flavor:': ' Currant & BBQ (Chicken)'}                  1\n",
      "Name: style, Length: 24073, dtype: int64\n"
     ]
    }
   ],
   "source": [
    "field_name = 'style'\n",
    "describe(train_data, field_name)"
   ]
  },
  {
   "cell_type": "markdown",
   "metadata": {},
   "source": [
    "### image"
   ]
  },
  {
   "cell_type": "code",
   "execution_count": 26,
   "metadata": {
    "scrolled": false
   },
   "outputs": [
    {
     "name": "stdout",
     "output_type": "stream",
     "text": [
      "Колонка \"image\":\n",
      "------\n",
      "na: 638176\n",
      "уникальных значений: 4950\n",
      "------\n",
      "['https://images-na.ssl-images-amazon.com/images/I/71+Z1TA3eyL._SY88.jpg']                                                                              6\n",
      "['https://images-na.ssl-images-amazon.com/images/I/712zJIOTV5L._SY88.jpg']                                                                              5\n",
      "['https://images-na.ssl-images-amazon.com/images/I/51m40ZPjS5L._SY88.jpg']                                                                              4\n",
      "['https://images-na.ssl-images-amazon.com/images/I/41wx9Sn88cL._SY88.jpg']                                                                              4\n",
      "['https://images-na.ssl-images-amazon.com/images/I/81ZkT-0FJpL._SY88.jpg']                                                                              4\n",
      "                                                                                                                                                       ..\n",
      "['https://images-na.ssl-images-amazon.com/images/I/81E8Qpc1ewL._SY88.jpg']                                                                              1\n",
      "['https://images-na.ssl-images-amazon.com/images/I/71P+rlFtgFL._SY88.jpg']                                                                              1\n",
      "['https://images-na.ssl-images-amazon.com/images/I/71pn5E-FtyL._SY88.jpg', 'https://images-na.ssl-images-amazon.com/images/I/71K+vynjryL._SY88.jpg']    1\n",
      "['https://images-na.ssl-images-amazon.com/images/I/81k15mZP18L._SY88.jpg']                                                                              1\n",
      "['https://images-na.ssl-images-amazon.com/images/I/81eVIrWYsnL._SY88.jpg']                                                                              1\n",
      "Name: image, Length: 4949, dtype: int64\n"
     ]
    }
   ],
   "source": [
    "field_name = 'image'\n",
    "describe(train_data, field_name)"
   ]
  },
  {
   "cell_type": "code",
   "execution_count": 12,
   "metadata": {},
   "outputs": [
    {
     "name": "stdout",
     "output_type": "stream",
     "text": [
      "Колонка \"overall\":\n",
      "------\n",
      "na: 0\n",
      "уникальных значений: 5\n",
      "------\n",
      "5.0    615196\n",
      "4.0    113094\n",
      "3.0     60440\n",
      "1.0     37498\n",
      "2.0     31667\n",
      "Name: overall, dtype: int64\n",
      "\n",
      "Колонка \"verified\":\n",
      "------\n",
      "na: 0\n",
      "уникальных значений: 2\n",
      "------\n",
      "True     745243\n",
      "False    112652\n",
      "Name: verified, dtype: int64\n",
      "\n",
      "Колонка \"reviewTime\":\n",
      "------\n",
      "na: 0\n",
      "уникальных значений: 4580\n",
      "------\n",
      "03 1, 2016     942\n",
      "07 14, 2016    885\n",
      "06 3, 2015     799\n",
      "01 20, 2016    795\n",
      "02 20, 2016    784\n",
      "              ... \n",
      "12 15, 2004      1\n",
      "08 2, 2008       1\n",
      "02 11, 2005      1\n",
      "01 20, 2006      1\n",
      "04 8, 2006       1\n",
      "Name: reviewTime, Length: 4580, dtype: int64\n",
      "\n",
      "Колонка \"asin\":\n",
      "------\n",
      "na: 0\n",
      "уникальных значений: 41302\n",
      "------\n",
      "B00BUKL666    5491\n",
      "B00D3M2QP4    4733\n",
      "B008QMX2SG    4654\n",
      "B00R7PWK7W    2547\n",
      "B000X3TPHS    2300\n",
      "              ... \n",
      "B001E5DY1C       1\n",
      "B000YT9CQU       1\n",
      "B00J7W0KCA       1\n",
      "B000XEQEQ2       1\n",
      "B00B7E3B6S       1\n",
      "Name: asin, Length: 41302, dtype: int64\n",
      "\n",
      "Колонка \"reviewerName\":\n",
      "------\n",
      "na: 176\n",
      "уникальных значений: 101208\n",
      "------\n",
      "Amazon Customer           31726\n",
      "Kindle Customer            6228\n",
      "Linda                       734\n",
      "John                        725\n",
      "David                       619\n",
      "                          ...  \n",
      "LovinCacaogirl                1\n",
      "James &amp;amp; Judith        1\n",
      "KidEternal                    1\n",
      "P. Deveau                     1\n",
      "Omega Man                     1\n",
      "Name: reviewerName, Length: 101207, dtype: int64\n",
      "\n",
      "Колонка \"reviewText\":\n",
      "------\n",
      "na: 279\n",
      "уникальных значений: 686740\n",
      "------\n",
      "good                                                                                                                                                                                                                                                                                                                                                                               3144\n",
      "great                                                                                                                                                                                                                                                                                                                                                                              2612\n",
      "Great                                                                                                                                                                                                                                                                                                                                                                              2080\n",
      "Good                                                                                                                                                                                                                                                                                                                                                                               2057\n",
      "ok                                                                                                                                                                                                                                                                                                                                                                                 1334\n",
      "                                                                                                                                                                                                                                                                                                                                                                                   ... \n",
      "The noodles are good and this contains less than half the calories of a bowl of ramen noodles. But I was expecting a \"curry\" flavor- this not only doesn't have much overall flavor, but it's not at all spicy. I will look into other flavors but will not be buying this again- even cooked with chicken broth and hot sauce this doesn't taste like much of anything at all.       1\n",
      "Excellent product!  I used to use minors bases and concentrates when I was a working chef.  It's nearly impossible to find Minors brand in retail stores.  Being able to order from Amazon at these current low prices is fantastic.  I bought four and put three in my deep freeze.                                                                                                  1\n",
      "Love these.  Thanks                                                                                                                                                                                                                                                                                                                                                                   1\n",
      "Quick, easy and a healthy substitute for sugar.                                                                                                                                                                                                                                                                                                                                       1\n",
      "This would have received 5 stars if it weren't for the fact that the Chocolate Coconut won't work in my Keurig. It strains the pump tremendously and made the coffee maker actually turn off completely once. Don't use the Chocolate Coconut in a Keurig.                                                                                                                            1\n",
      "Name: reviewText, Length: 686739, dtype: int64\n",
      "\n",
      "Колонка \"summary\":\n",
      "------\n",
      "na: 170\n",
      "уникальных значений: 411452\n",
      "------\n",
      "Five Stars                                      173850\n",
      "Four Stars                                       26878\n",
      "Three Stars                                      12033\n",
      "One Star                                          5386\n",
      "Two Stars                                         4989\n",
      "                                                 ...  \n",
      " Gatorade                                            1\n",
      "This is an excellent zero calorie                    1\n",
      "Sent to APO and arrived perfectly                    1\n",
      "Tastes best when cold                                1\n",
      "Great price, taste, and individual wrapping.         1\n",
      "Name: summary, Length: 411451, dtype: int64\n",
      "\n",
      "Колонка \"unixReviewTime\":\n",
      "------\n",
      "na: 0\n",
      "уникальных значений: 4580\n",
      "------\n",
      "1456790400    942\n",
      "1468454400    885\n",
      "1433289600    799\n",
      "1453248000    795\n",
      "1455926400    784\n",
      "             ... \n",
      "1134086400      1\n",
      "1196812800      1\n",
      "1184025600      1\n",
      "1178150400      1\n",
      "1144454400      1\n",
      "Name: unixReviewTime, Length: 4580, dtype: int64\n",
      "\n",
      "Колонка \"vote\":\n",
      "------\n",
      "na: 739155\n",
      "уникальных значений: 312\n",
      "------\n",
      "2      44503\n",
      "3      22329\n",
      "4      12874\n",
      "5       8266\n",
      "6       5703\n",
      "       ...  \n",
      "291        1\n",
      "624        1\n",
      "208        1\n",
      "152        1\n",
      "926        1\n",
      "Name: vote, Length: 311, dtype: int64\n",
      "\n",
      "Колонка \"style\":\n",
      "------\n",
      "na: 413489\n",
      "уникальных значений: 25893\n",
      "------\n",
      "{'Size:': ' Pack of 1'}                            5411\n",
      "{'Package Quantity:': ' 1'}                        4632\n",
      "{'Package Type:': ' Standard Packaging'}           4057\n",
      "{'Size:': ' 1 Pack'}                               3857\n",
      "{'Size:': ' 24 Count'}                             3615\n",
      "                                                   ... \n",
      "{'Size:': ' 48', 'Flavor:': ' Tasty Original'}        1\n",
      "{'Size:': ' 2 Ounce', 'Flavor:': ' Cranberry'}        1\n",
      "{'Size:': ' 12 count', 'Flavor:': ' Bubblegum'}       1\n",
      "{'Flavor Name:': ' Pia Colada'}                       1\n",
      "{'Flavor:': ' BAILEYS Truffles Gift Box'}             1\n",
      "Name: style, Length: 25892, dtype: int64\n",
      "\n",
      "Колонка \"image\":\n",
      "------\n",
      "na: 850753\n",
      "уникальных значений: 6637\n",
      "------\n",
      "['https://images-na.ssl-images-amazon.com/images/I/71+Z1TA3eyL._SY88.jpg']                                                                                                                                                                                                                                  6\n",
      "['https://images-na.ssl-images-amazon.com/images/I/712zJIOTV5L._SY88.jpg']                                                                                                                                                                                                                                  6\n",
      "['https://images-na.ssl-images-amazon.com/images/I/81ZkT-0FJpL._SY88.jpg']                                                                                                                                                                                                                                  5\n",
      "['https://images-na.ssl-images-amazon.com/images/I/81kah7EsJtL._SY88.jpg', 'https://images-na.ssl-images-amazon.com/images/I/81YnU7oiOIL._SY88.jpg', 'https://images-na.ssl-images-amazon.com/images/I/81j+y7+3NxL._SY88.jpg', 'https://images-na.ssl-images-amazon.com/images/I/81RV96qYZvL._SY88.jpg']    5\n",
      "['https://images-na.ssl-images-amazon.com/images/I/41wx9Sn88cL._SY88.jpg']                                                                                                                                                                                                                                  5\n",
      "                                                                                                                                                                                                                                                                                                           ..\n",
      "['https://images-na.ssl-images-amazon.com/images/I/71NDh-wXJdL._SY88.jpg', 'https://images-na.ssl-images-amazon.com/images/I/71UffcE22gL._SY88.jpg', 'https://images-na.ssl-images-amazon.com/images/I/71ATC4JBNqL._SY88.jpg']                                                                              1\n",
      "['https://images-na.ssl-images-amazon.com/images/I/71+2piAevrL._SY88.jpg', 'https://images-na.ssl-images-amazon.com/images/I/71wGgHflb8L._SY88.jpg']                                                                                                                                                        1\n",
      "['https://images-na.ssl-images-amazon.com/images/I/71LnFI+877L._SY88.jpg', 'https://images-na.ssl-images-amazon.com/images/I/71GIVXcc2PL._SY88.jpg']                                                                                                                                                        1\n",
      "['https://images-na.ssl-images-amazon.com/images/I/710dRKsI4JL._SY88.jpg']                                                                                                                                                                                                                                  1\n",
      "['https://images-na.ssl-images-amazon.com/images/I/718PaH1LdxL._SY88.jpg']                                                                                                                                                                                                                                  1\n",
      "Name: image, Length: 6636, dtype: int64\n",
      "\n",
      "Колонка \"userid\":\n",
      "------\n",
      "na: 0\n",
      "уникальных значений: 127448\n",
      "------\n",
      "842       435\n",
      "17987     320\n",
      "355       304\n",
      "2024      297\n",
      "2809      279\n",
      "         ... \n",
      "64380       1\n",
      "17331       1\n",
      "65700       1\n",
      "103601      1\n",
      "41701       1\n",
      "Name: userid, Length: 127448, dtype: int64\n",
      "\n",
      "Колонка \"itemid\":\n",
      "------\n",
      "na: 0\n",
      "уникальных значений: 41302\n",
      "------\n",
      "22208    5491\n",
      "23540    4733\n",
      "24556    4654\n",
      "32046    2547\n",
      "5195     2300\n",
      "         ... \n",
      "41186       1\n",
      "39025       1\n",
      "5516        1\n",
      "38913       1\n",
      "37017       1\n",
      "Name: itemid, Length: 41302, dtype: int64\n",
      "\n",
      "Колонка \"rating\":\n",
      "------\n",
      "na: 0\n",
      "уникальных значений: 2\n",
      "------\n",
      "1.0    728290\n",
      "0.0    129605\n",
      "Name: rating, dtype: int64\n",
      "\n"
     ]
    }
   ],
   "source": [
    "for field_name in train.columns.tolist():\n",
    "    describe(train, field_name)\n",
    "    print(\"\")"
   ]
  },
  {
   "cell_type": "code",
   "execution_count": 7,
   "metadata": {},
   "outputs": [],
   "source": [
    "import scipy.sparse as sparse\n",
    "\n",
    "from lightfm import LightFM\n",
    "from lightfm.cross_validation import random_train_test_split\n",
    "from lightfm.evaluation import auc_score, precision_at_k, recall_at_k\n",
    "import sklearn\n",
    "from sklearn.model_selection import train_test_split\n",
    "\n",
    "import scipy.sparse as sparse"
   ]
  },
  {
   "cell_type": "code",
   "execution_count": 8,
   "metadata": {},
   "outputs": [],
   "source": [
    "train_data, test_data = train_test_split(train,random_state=32, shuffle=True)\n"
   ]
  },
  {
   "cell_type": "code",
   "execution_count": 9,
   "metadata": {},
   "outputs": [
    {
     "name": "stdout",
     "output_type": "stream",
     "text": [
      "Колонка \"rating\":\n",
      "------\n",
      "na: 0\n",
      "уникальных значений: 2\n",
      "------\n",
      "1.0    546442\n",
      "0.0     96979\n",
      "Name: rating, dtype: int64\n"
     ]
    }
   ],
   "source": [
    "describe(train_data, 'rating')"
   ]
  },
  {
   "cell_type": "code",
   "execution_count": 10,
   "metadata": {},
   "outputs": [
    {
     "name": "stdout",
     "output_type": "stream",
     "text": [
      "Колонка \"userid\":\n",
      "------\n",
      "na: 0\n",
      "уникальных значений: 126650\n",
      "------\n",
      "842       330\n",
      "17987     245\n",
      "355       234\n",
      "2024      229\n",
      "2809      205\n",
      "         ... \n",
      "97566       1\n",
      "50659       1\n",
      "114762      1\n",
      "64814       1\n",
      "3434        1\n",
      "Name: userid, Length: 126650, dtype: int64\n"
     ]
    }
   ],
   "source": [
    "describe(train_data, 'userid')"
   ]
  },
  {
   "cell_type": "code",
   "execution_count": 11,
   "metadata": {},
   "outputs": [
    {
     "name": "stdout",
     "output_type": "stream",
     "text": [
      "Колонка \"itemid\":\n",
      "------\n",
      "na: 0\n",
      "уникальных значений: 41144\n",
      "------\n",
      "22208    4115\n",
      "24556    3534\n",
      "23540    3527\n",
      "32046    1897\n",
      "5195     1721\n",
      "         ... \n",
      "40852       1\n",
      "38540       1\n",
      "38799       1\n",
      "36748       1\n",
      "6412        1\n",
      "Name: itemid, Length: 41144, dtype: int64\n"
     ]
    }
   ],
   "source": [
    "describe(train_data, 'itemid')"
   ]
  },
  {
   "cell_type": "code",
   "execution_count": 9,
   "metadata": {},
   "outputs": [],
   "source": [
    "ratings_coo = sparse.coo_matrix((train_data['rating'].astype(int),\n",
    "                                 (train_data['userid'],\n",
    "                                  train_data['itemid'])))"
   ]
  },
  {
   "cell_type": "code",
   "execution_count": 10,
   "metadata": {},
   "outputs": [],
   "source": [
    "NUM_THREADS = 4 #число потоков\n",
    "NUM_COMPONENTS = 30 #число параметров вектора \n",
    "NUM_EPOCHS = 20 #число эпох обучения\n",
    "\n",
    "model = LightFM(learning_rate=0.1, loss='logistic',\n",
    "                no_components=NUM_COMPONENTS)\n",
    "model = model.fit(ratings_coo, epochs=NUM_EPOCHS, \n",
    "                  num_threads=NUM_THREADS)"
   ]
  },
  {
   "cell_type": "code",
   "execution_count": 11,
   "metadata": {},
   "outputs": [],
   "source": [
    "preds = model.predict(test_data.userid.values,\n",
    "                      test_data.itemid.values)\n"
   ]
  },
  {
   "cell_type": "code",
   "execution_count": 12,
   "metadata": {},
   "outputs": [
    {
     "data": {
      "text/plain": [
       "0.7453170216328622"
      ]
     },
     "execution_count": 12,
     "metadata": {},
     "output_type": "execute_result"
    }
   ],
   "source": [
    "sklearn.metrics.roc_auc_score(test_data.rating,preds)\n"
   ]
  },
  {
   "cell_type": "code",
   "execution_count": 13,
   "metadata": {},
   "outputs": [],
   "source": [
    "preds = model.predict(test.userid.values,\n",
    "                      test.itemid.values)\n"
   ]
  },
  {
   "cell_type": "code",
   "execution_count": 14,
   "metadata": {},
   "outputs": [
    {
     "data": {
      "text/plain": [
       "(-23.871753692626953, 29.453428268432617)"
      ]
     },
     "execution_count": 14,
     "metadata": {},
     "output_type": "execute_result"
    }
   ],
   "source": [
    "preds.min(), preds.max()"
   ]
  },
  {
   "cell_type": "code",
   "execution_count": 15,
   "metadata": {},
   "outputs": [],
   "source": [
    "normalized_preds = (preds - preds.min())/(preds - preds.min()).max()\n"
   ]
  },
  {
   "cell_type": "code",
   "execution_count": 16,
   "metadata": {},
   "outputs": [
    {
     "data": {
      "text/plain": [
       "(0.0, 1.0)"
      ]
     },
     "execution_count": 16,
     "metadata": {},
     "output_type": "execute_result"
    }
   ],
   "source": [
    "normalized_preds.min(), normalized_preds.max()\n"
   ]
  },
  {
   "cell_type": "code",
   "execution_count": 17,
   "metadata": {},
   "outputs": [],
   "source": [
    "submission['rating']= normalized_preds"
   ]
  },
  {
   "cell_type": "code",
   "execution_count": 18,
   "metadata": {},
   "outputs": [],
   "source": [
    "submission.to_csv('submission_log.csv', index=False)"
   ]
  },
  {
   "cell_type": "code",
   "execution_count": 19,
   "metadata": {},
   "outputs": [
    {
     "data": {
      "text/html": [
       "<div>\n",
       "<style scoped>\n",
       "    .dataframe tbody tr th:only-of-type {\n",
       "        vertical-align: middle;\n",
       "    }\n",
       "\n",
       "    .dataframe tbody tr th {\n",
       "        vertical-align: top;\n",
       "    }\n",
       "\n",
       "    .dataframe thead th {\n",
       "        text-align: right;\n",
       "    }\n",
       "</style>\n",
       "<table border=\"1\" class=\"dataframe\">\n",
       "  <thead>\n",
       "    <tr style=\"text-align: right;\">\n",
       "      <th></th>\n",
       "      <th>Id</th>\n",
       "      <th>rating</th>\n",
       "    </tr>\n",
       "  </thead>\n",
       "  <tbody>\n",
       "    <tr>\n",
       "      <th>0</th>\n",
       "      <td>0</td>\n",
       "      <td>0.488921</td>\n",
       "    </tr>\n",
       "    <tr>\n",
       "      <th>1</th>\n",
       "      <td>1</td>\n",
       "      <td>0.480583</td>\n",
       "    </tr>\n",
       "    <tr>\n",
       "      <th>2</th>\n",
       "      <td>2</td>\n",
       "      <td>0.459498</td>\n",
       "    </tr>\n",
       "    <tr>\n",
       "      <th>3</th>\n",
       "      <td>3</td>\n",
       "      <td>0.444115</td>\n",
       "    </tr>\n",
       "    <tr>\n",
       "      <th>4</th>\n",
       "      <td>4</td>\n",
       "      <td>0.466051</td>\n",
       "    </tr>\n",
       "    <tr>\n",
       "      <th>...</th>\n",
       "      <td>...</td>\n",
       "      <td>...</td>\n",
       "    </tr>\n",
       "    <tr>\n",
       "      <th>285960</th>\n",
       "      <td>285960</td>\n",
       "      <td>0.486462</td>\n",
       "    </tr>\n",
       "    <tr>\n",
       "      <th>285961</th>\n",
       "      <td>285961</td>\n",
       "      <td>0.362577</td>\n",
       "    </tr>\n",
       "    <tr>\n",
       "      <th>285962</th>\n",
       "      <td>285962</td>\n",
       "      <td>0.450860</td>\n",
       "    </tr>\n",
       "    <tr>\n",
       "      <th>285963</th>\n",
       "      <td>285963</td>\n",
       "      <td>0.474820</td>\n",
       "    </tr>\n",
       "    <tr>\n",
       "      <th>285964</th>\n",
       "      <td>285964</td>\n",
       "      <td>0.504678</td>\n",
       "    </tr>\n",
       "  </tbody>\n",
       "</table>\n",
       "<p>285965 rows × 2 columns</p>\n",
       "</div>"
      ],
      "text/plain": [
       "            Id    rating\n",
       "0            0  0.488921\n",
       "1            1  0.480583\n",
       "2            2  0.459498\n",
       "3            3  0.444115\n",
       "4            4  0.466051\n",
       "...        ...       ...\n",
       "285960  285960  0.486462\n",
       "285961  285961  0.362577\n",
       "285962  285962  0.450860\n",
       "285963  285963  0.474820\n",
       "285964  285964  0.504678\n",
       "\n",
       "[285965 rows x 2 columns]"
      ]
     },
     "execution_count": 19,
     "metadata": {},
     "output_type": "execute_result"
    }
   ],
   "source": [
    "submission"
   ]
  },
  {
   "cell_type": "code",
   "execution_count": null,
   "metadata": {},
   "outputs": [],
   "source": []
  }
 ],
 "metadata": {
  "kernelspec": {
   "display_name": "Python 3",
   "language": "python",
   "name": "python3"
  },
  "language_info": {
   "codemirror_mode": {
    "name": "ipython",
    "version": 3
   },
   "file_extension": ".py",
   "mimetype": "text/x-python",
   "name": "python",
   "nbconvert_exporter": "python",
   "pygments_lexer": "ipython3",
   "version": "3.7.6"
  }
 },
 "nbformat": 4,
 "nbformat_minor": 4
}
